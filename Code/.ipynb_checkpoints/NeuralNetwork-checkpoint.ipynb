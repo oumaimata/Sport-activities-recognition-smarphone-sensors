{
 "cells": [
  {
   "cell_type": "code",
   "execution_count": 57,
   "metadata": {
    "collapsed": true
   },
   "outputs": [],
   "source": [
    "%matplotlib inline\n",
    "\n",
    "import pandas as pd \n",
    "import numpy as np\n",
    "import matplotlib.pyplot as plt\n",
    "import seaborn as sns\n",
    "import matplotlib.pyplot as plt\n",
    "from sklearn.neural_network import MLPClassifier\n",
    "from sklearn.metrics import confusion_matrix, classification_report, accuracy_score\n",
    "np.random.seed(0)"
   ]
  },
  {
   "cell_type": "code",
   "execution_count": 59,
   "metadata": {
    "collapsed": true
   },
   "outputs": [],
   "source": [
    "%store -r data\n",
    "%store -r train\n",
    "%store -r test\n",
    "%store -r y\n",
    "%store -r features\n",
    "\n",
    "# we can use the SciKit Learn's train_test_split function from model_selection with a fixed randomState"
   ]
  },
  {
   "cell_type": "markdown",
   "metadata": {},
   "source": [
    "### Neural Network Classifier"
   ]
  },
  {
   "cell_type": "code",
   "execution_count": 80,
   "metadata": {
    "collapsed": true
   },
   "outputs": [],
   "source": [
    "#one hidden layer\n",
    "clf = MLPClassifier(solver='lbfgs', alpha=1e-5, hidden_layer_sizes=(10,), random_state=1)\n",
    "#2 hidden layers same nodes : accuracy score: 0.83\n",
    "#clf = MLPClassifier(solver='lbfgs', alpha=1e-5, hidden_layer_sizes=(10, 10), random_state=1) \n",
    "#2 hidden layers different number of nodes: accuracy score: 0.68\n",
    "#clf = MLPClassifier(solver='lbfgs', alpha=1e-5, hidden_layer_sizes=(10, 10), random_state=1)\n",
    "\n",
    "# use cross-validation for number of layers and nodes for each"
   ]
  },
  {
   "cell_type": "code",
   "execution_count": 81,
   "metadata": {
    "collapsed": false
   },
   "outputs": [
    {
     "data": {
      "text/plain": [
       "MLPClassifier(activation='relu', alpha=1e-05, batch_size='auto', beta_1=0.9,\n",
       "       beta_2=0.999, early_stopping=False, epsilon=1e-08,\n",
       "       hidden_layer_sizes=(10, 10), learning_rate='constant',\n",
       "       learning_rate_init=0.001, max_iter=200, momentum=0.9,\n",
       "       nesterovs_momentum=True, power_t=0.5, random_state=1, shuffle=True,\n",
       "       solver='lbfgs', tol=0.0001, validation_fraction=0.1, verbose=False,\n",
       "       warm_start=False)"
      ]
     },
     "execution_count": 81,
     "metadata": {},
     "output_type": "execute_result"
    }
   ],
   "source": [
    "clf.fit(train[features], y) "
   ]
  },
  {
   "cell_type": "markdown",
   "metadata": {},
   "source": [
    "## Accuracy Metrics on Test Data"
   ]
  },
  {
   "cell_type": "code",
   "execution_count": 82,
   "metadata": {
    "collapsed": false
   },
   "outputs": [
    {
     "data": {
      "text/plain": [
       "array([1, 1, 1, ..., 6, 6, 6])"
      ]
     },
     "execution_count": 82,
     "metadata": {},
     "output_type": "execute_result"
    }
   ],
   "source": [
    "clf.predict(test[features])"
   ]
  },
  {
   "cell_type": "code",
   "execution_count": 83,
   "metadata": {
    "collapsed": false
   },
   "outputs": [
    {
     "data": {
      "text/plain": [
       "array([[ 0.87010215,  0.07256453,  0.03332139,  0.00966238,  0.00407828,\n",
       "         0.01027127],\n",
       "       [ 0.87067779,  0.07175649,  0.03396256,  0.00982835,  0.00389569,\n",
       "         0.00987911],\n",
       "       [ 0.8706781 ,  0.07127577,  0.03324537,  0.00927508,  0.00449198,\n",
       "         0.0110337 ],\n",
       "       [ 0.867566  ,  0.07418925,  0.03394091,  0.00984936,  0.00399208,\n",
       "         0.01046239],\n",
       "       [ 0.8704002 ,  0.07194362,  0.03321067,  0.00932543,  0.00433964,\n",
       "         0.01078044],\n",
       "       [ 0.8683382 ,  0.07375562,  0.03434873,  0.01004988,  0.00369885,\n",
       "         0.00980872],\n",
       "       [ 0.86869977,  0.07250857,  0.03366171,  0.00946075,  0.00444067,\n",
       "         0.01122853],\n",
       "       [ 0.86761249,  0.07407351,  0.03392028,  0.00965912,  0.00407276,\n",
       "         0.01066184],\n",
       "       [ 0.86980953,  0.07265227,  0.03366688,  0.00971053,  0.00398986,\n",
       "         0.01017093],\n",
       "       [ 0.86907902,  0.07249359,  0.03414556,  0.0097811 ,  0.00406101,\n",
       "         0.01043972]])"
      ]
     },
     "execution_count": 83,
     "metadata": {},
     "output_type": "execute_result"
    }
   ],
   "source": [
    "# predicted probabilities of the first 10 rows\n",
    "clf.predict_proba(test[features])[0:10]"
   ]
  },
  {
   "cell_type": "code",
   "execution_count": 84,
   "metadata": {
    "collapsed": false
   },
   "outputs": [
    {
     "data": {
      "text/plain": [
       "array([1, 1, 1, ..., 6, 6, 6])"
      ]
     },
     "execution_count": 84,
     "metadata": {},
     "output_type": "execute_result"
    }
   ],
   "source": [
    "predictionsNN = clf.predict(test[features])\n",
    "predictionsNN"
   ]
  },
  {
   "cell_type": "code",
   "execution_count": 85,
   "metadata": {
    "collapsed": false
   },
   "outputs": [
    {
     "data": {
      "text/html": [
       "<div>\n",
       "<table border=\"1\" class=\"dataframe\">\n",
       "  <thead>\n",
       "    <tr style=\"text-align: right;\">\n",
       "      <th>Predicted Activity</th>\n",
       "      <th>1</th>\n",
       "      <th>2</th>\n",
       "      <th>3</th>\n",
       "      <th>4</th>\n",
       "      <th>5</th>\n",
       "      <th>6</th>\n",
       "    </tr>\n",
       "    <tr>\n",
       "      <th>Actual Activity</th>\n",
       "      <th></th>\n",
       "      <th></th>\n",
       "      <th></th>\n",
       "      <th></th>\n",
       "      <th></th>\n",
       "      <th></th>\n",
       "    </tr>\n",
       "  </thead>\n",
       "  <tbody>\n",
       "    <tr>\n",
       "      <th>1</th>\n",
       "      <td>32050</td>\n",
       "      <td>24</td>\n",
       "      <td>1361</td>\n",
       "      <td>42</td>\n",
       "      <td>2266</td>\n",
       "      <td>7</td>\n",
       "    </tr>\n",
       "    <tr>\n",
       "      <th>2</th>\n",
       "      <td>1328</td>\n",
       "      <td>24985</td>\n",
       "      <td>2985</td>\n",
       "      <td>5009</td>\n",
       "      <td>563</td>\n",
       "      <td>1403</td>\n",
       "    </tr>\n",
       "    <tr>\n",
       "      <th>3</th>\n",
       "      <td>2084</td>\n",
       "      <td>944</td>\n",
       "      <td>29472</td>\n",
       "      <td>2446</td>\n",
       "      <td>132</td>\n",
       "      <td>1169</td>\n",
       "    </tr>\n",
       "    <tr>\n",
       "      <th>4</th>\n",
       "      <td>1814</td>\n",
       "      <td>1806</td>\n",
       "      <td>2886</td>\n",
       "      <td>28496</td>\n",
       "      <td>676</td>\n",
       "      <td>403</td>\n",
       "    </tr>\n",
       "    <tr>\n",
       "      <th>5</th>\n",
       "      <td>858</td>\n",
       "      <td>97</td>\n",
       "      <td>21</td>\n",
       "      <td>348</td>\n",
       "      <td>33428</td>\n",
       "      <td>901</td>\n",
       "    </tr>\n",
       "    <tr>\n",
       "      <th>6</th>\n",
       "      <td>237</td>\n",
       "      <td>1137</td>\n",
       "      <td>791</td>\n",
       "      <td>605</td>\n",
       "      <td>964</td>\n",
       "      <td>32469</td>\n",
       "    </tr>\n",
       "  </tbody>\n",
       "</table>\n",
       "</div>"
      ],
      "text/plain": [
       "Predicted Activity      1      2      3      4      5      6\n",
       "Actual Activity                                             \n",
       "1                   32050     24   1361     42   2266      7\n",
       "2                    1328  24985   2985   5009    563   1403\n",
       "3                    2084    944  29472   2446    132   1169\n",
       "4                    1814   1806   2886  28496    676    403\n",
       "5                     858     97     21    348  33428    901\n",
       "6                     237   1137    791    605    964  32469"
      ]
     },
     "execution_count": 85,
     "metadata": {},
     "output_type": "execute_result"
    }
   ],
   "source": [
    "pd.crosstab(test['Activity'], predictionsNN, rownames=['Actual Activity'], colnames=['Predicted Activity'])"
   ]
  },
  {
   "cell_type": "code",
   "execution_count": 86,
   "metadata": {
    "collapsed": false
   },
   "outputs": [
    {
     "data": {
      "text/plain": [
       "<matplotlib.axes._subplots.AxesSubplot at 0x131e8b5f8>"
      ]
     },
     "execution_count": 86,
     "metadata": {},
     "output_type": "execute_result"
    },
    {
     "data": {
      "image/png": "[encoded data removed]",
      "text/plain": [
       "<matplotlib.figure.Figure at 0x131464160>"
      ]
     },
     "metadata": {},
     "output_type": "display_data"
    }
   ],
   "source": [
    "sns.heatmap(data=confusion_matrix(test['Activity'],predictionsNN),\n",
    "            fmt='.0f',\n",
    "            annot=True,\n",
    "            xticklabels=np.unique(test['Activity']),\n",
    "            yticklabels=np.unique(test['Activity']))"
   ]
  },
  {
   "cell_type": "code",
   "execution_count": 88,
   "metadata": {
    "collapsed": false
   },
   "outputs": [
    {
     "name": "stdout",
     "output_type": "stream",
     "text": [
      "             precision    recall  f1-score   support\n",
      "\n",
      "          1       0.84      0.90      0.86     35750\n",
      "          2       0.86      0.69      0.77     36273\n",
      "          3       0.79      0.81      0.80     36247\n",
      "          4       0.77      0.79      0.78     36081\n",
      "          5       0.88      0.94      0.91     35653\n",
      "          6       0.89      0.90      0.90     36203\n",
      "\n",
      "avg / total       0.84      0.84      0.84    216207\n",
      "\n"
     ]
    }
   ],
   "source": [
    "print(classification_report(test['Activity'],predictionsNN))"
   ]
  },
  {
   "cell_type": "code",
   "execution_count": 89,
   "metadata": {
    "collapsed": false
   },
   "outputs": [
    {
     "data": {
      "text/plain": [
       "0.83669816425925159"
      ]
     },
     "execution_count": 89,
     "metadata": {},
     "output_type": "execute_result"
    }
   ],
   "source": [
    "accuracy_score(test['Activity'],predictionsNN)"
   ]
  },
  {
   "cell_type": "code",
   "execution_count": null,
   "metadata": {
    "collapsed": true
   },
   "outputs": [],
   "source": []
  }
 ],
 "metadata": {
  "kernelspec": {
   "display_name": "Python 3",
   "language": "python",
   "name": "python3"
  },
  "language_info": {
   "codemirror_mode": {
    "name": "ipython",
    "version": 3
   },
   "file_extension": ".py",
   "mimetype": "text/x-python",
   "name": "python",
   "nbconvert_exporter": "python",
   "pygments_lexer": "ipython3",
   "version": "3.6.0"
  }
 },
 "nbformat": 4,
 "nbformat_minor": 2
}
