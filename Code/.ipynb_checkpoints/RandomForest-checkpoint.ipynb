{
 "cells": [
  {
   "cell_type": "code",
   "execution_count": 62,
   "metadata": {},
   "outputs": [],
   "source": [
    "%matplotlib inline\n",
    "\n",
    "import pandas as pd\n",
    "import numpy as np\n",
    "import matplotlib.pyplot as plt\n",
    "import seaborn as sns\n",
    "import matplotlib.pyplot as plt\n",
    "\n",
    "# Load scikit's random forest classifier library\n",
    "from sklearn.ensemble import RandomForestClassifier\n",
    "from sklearn.metrics import confusion_matrix, classification_report\n",
    "from sklearn.metrics import accuracy_score\n",
    "\n",
    "# Set random seed\n",
    "np.random.seed(0)"
   ]
  },
  {
   "cell_type": "code",
   "execution_count": 63,
   "metadata": {},
   "outputs": [],
   "source": [
    "%store -r data"
   ]
  },
  {
   "cell_type": "code",
   "execution_count": 64,
   "metadata": {},
   "outputs": [],
   "source": [
    "#data"
   ]
  },
  {
   "cell_type": "code",
   "execution_count": 65,
   "metadata": {},
   "outputs": [
    {
     "data": {
      "text/plain": [
       "array([1, 2, 3, 4, 5, 6])"
      ]
     },
     "execution_count": 65,
     "metadata": {},
     "output_type": "execute_result"
    }
   ],
   "source": [
    "data.Activity.unique() #array([1, 2, 3, 4, 5, 6])"
   ]
  },
  {
   "cell_type": "code",
   "execution_count": 66,
   "metadata": {},
   "outputs": [
    {
     "data": {
      "text/html": [
       "<div>\n",
       "<style>\n",
       "    .dataframe thead tr:only-child th {\n",
       "        text-align: right;\n",
       "    }\n",
       "\n",
       "    .dataframe thead th {\n",
       "        text-align: left;\n",
       "    }\n",
       "\n",
       "    .dataframe tbody tr th {\n",
       "        vertical-align: top;\n",
       "    }\n",
       "</style>\n",
       "<table border=\"1\" class=\"dataframe\">\n",
       "  <thead>\n",
       "    <tr style=\"text-align: right;\">\n",
       "      <th></th>\n",
       "      <th>A_xacc</th>\n",
       "      <th>A_xacc</th>\n",
       "      <th>A_xacc</th>\n",
       "      <th>A_xgyro</th>\n",
       "      <th>A_ygyro</th>\n",
       "      <th>A_zgyro</th>\n",
       "      <th>A_xmag</th>\n",
       "      <th>A_ymag</th>\n",
       "      <th>A_zmag</th>\n",
       "      <th>Subject</th>\n",
       "      <th>Activity</th>\n",
       "      <th>rowData</th>\n",
       "      <th>Frequence</th>\n",
       "      <th>is_left</th>\n",
       "      <th>is_train</th>\n",
       "    </tr>\n",
       "  </thead>\n",
       "  <tbody>\n",
       "    <tr>\n",
       "      <th>0</th>\n",
       "      <td>-0.39088</td>\n",
       "      <td>-6.9683</td>\n",
       "      <td>6.9030</td>\n",
       "      <td>-0.014133</td>\n",
       "      <td>0.003125</td>\n",
       "      <td>-0.011263</td>\n",
       "      <td>-0.067876</td>\n",
       "      <td>0.79872</td>\n",
       "      <td>-0.21041</td>\n",
       "      <td>1</td>\n",
       "      <td>1</td>\n",
       "      <td>1</td>\n",
       "      <td>1</td>\n",
       "      <td>1</td>\n",
       "      <td>True</td>\n",
       "    </tr>\n",
       "    <tr>\n",
       "      <th>1</th>\n",
       "      <td>-0.35910</td>\n",
       "      <td>-7.0292</td>\n",
       "      <td>6.9094</td>\n",
       "      <td>-0.000001</td>\n",
       "      <td>0.004322</td>\n",
       "      <td>-0.004176</td>\n",
       "      <td>-0.067793</td>\n",
       "      <td>0.79870</td>\n",
       "      <td>-0.20877</td>\n",
       "      <td>1</td>\n",
       "      <td>1</td>\n",
       "      <td>2</td>\n",
       "      <td>2</td>\n",
       "      <td>1</td>\n",
       "      <td>True</td>\n",
       "    </tr>\n",
       "    <tr>\n",
       "      <th>2</th>\n",
       "      <td>-0.35433</td>\n",
       "      <td>-6.9685</td>\n",
       "      <td>6.8987</td>\n",
       "      <td>0.007218</td>\n",
       "      <td>-0.006623</td>\n",
       "      <td>-0.007716</td>\n",
       "      <td>-0.067630</td>\n",
       "      <td>0.79884</td>\n",
       "      <td>-0.21053</td>\n",
       "      <td>1</td>\n",
       "      <td>1</td>\n",
       "      <td>3</td>\n",
       "      <td>3</td>\n",
       "      <td>1</td>\n",
       "      <td>True</td>\n",
       "    </tr>\n",
       "    <tr>\n",
       "      <th>3</th>\n",
       "      <td>-0.36155</td>\n",
       "      <td>-7.0195</td>\n",
       "      <td>6.8994</td>\n",
       "      <td>-0.008128</td>\n",
       "      <td>-0.004702</td>\n",
       "      <td>0.001095</td>\n",
       "      <td>-0.066574</td>\n",
       "      <td>0.79853</td>\n",
       "      <td>-0.20959</td>\n",
       "      <td>1</td>\n",
       "      <td>1</td>\n",
       "      <td>4</td>\n",
       "      <td>4</td>\n",
       "      <td>1</td>\n",
       "      <td>True</td>\n",
       "    </tr>\n",
       "    <tr>\n",
       "      <th>4</th>\n",
       "      <td>-0.36405</td>\n",
       "      <td>-6.9903</td>\n",
       "      <td>6.9136</td>\n",
       "      <td>-0.001434</td>\n",
       "      <td>-0.012473</td>\n",
       "      <td>-0.020107</td>\n",
       "      <td>-0.066845</td>\n",
       "      <td>0.79829</td>\n",
       "      <td>-0.20997</td>\n",
       "      <td>1</td>\n",
       "      <td>1</td>\n",
       "      <td>5</td>\n",
       "      <td>5</td>\n",
       "      <td>1</td>\n",
       "      <td>True</td>\n",
       "    </tr>\n",
       "  </tbody>\n",
       "</table>\n",
       "</div>"
      ],
      "text/plain": [
       "    A_xacc  A_xacc  A_xacc   A_xgyro   A_ygyro   A_zgyro    A_xmag   A_ymag  \\\n",
       "0 -0.39088 -6.9683  6.9030 -0.014133  0.003125 -0.011263 -0.067876  0.79872   \n",
       "1 -0.35910 -7.0292  6.9094 -0.000001  0.004322 -0.004176 -0.067793  0.79870   \n",
       "2 -0.35433 -6.9685  6.8987  0.007218 -0.006623 -0.007716 -0.067630  0.79884   \n",
       "3 -0.36155 -7.0195  6.8994 -0.008128 -0.004702  0.001095 -0.066574  0.79853   \n",
       "4 -0.36405 -6.9903  6.9136 -0.001434 -0.012473 -0.020107 -0.066845  0.79829   \n",
       "\n",
       "    A_zmag  Subject  Activity  rowData  Frequence  is_left  is_train  \n",
       "0 -0.21041        1         1        1          1        1      True  \n",
       "1 -0.20877        1         1        2          2        1      True  \n",
       "2 -0.21053        1         1        3          3        1      True  \n",
       "3 -0.20959        1         1        4          4        1      True  \n",
       "4 -0.20997        1         1        5          5        1      True  "
      ]
     },
     "execution_count": 66,
     "metadata": {},
     "output_type": "execute_result"
    }
   ],
   "source": [
    "# New Column 'isTrain' == True for a row if random number generated (between 0 and 1) is less than or equal to .75\n",
    "# and false otherwise\n",
    "\n",
    "data['is_train'] = np.random.uniform(0, 1, len(data)) <= .75\n",
    "data.head()"
   ]
  },
  {
   "cell_type": "code",
   "execution_count": 67,
   "metadata": {},
   "outputs": [
    {
     "name": "stdout",
     "output_type": "stream",
     "text": [
      "('Number of rows the training set:', 539612)\n",
      "('Number of rows in the test set:', 180388)\n"
     ]
    }
   ],
   "source": [
    "# 2 dataFrames: for Training and Testing\n",
    "train, test = data[data['is_train']==True], data[data['is_train']==False]\n",
    "print('Number of rows the training set:', len(train))\n",
    "print('Number of rows in the test set:',len(test))"
   ]
  },
  {
   "cell_type": "code",
   "execution_count": 73,
   "metadata": {},
   "outputs": [
    {
     "data": {
      "text/plain": [
       "Index([u'A_xacc', u'A_xacc', u'A_xacc', u'A_xgyro', u'A_ygyro', u'A_zgyro',\n",
       "       u'A_xmag', u'A_ymag', u'A_zmag', u'is_left'],\n",
       "      dtype='object')"
      ]
     },
     "execution_count": 73,
     "metadata": {},
     "output_type": "execute_result"
    }
   ],
   "source": [
    "# list of the feature column's names\n",
    "features_df = data.drop([\"Activity\",\"Subject\",\"rowData\",\"Frequence\",\"is_train\"],axis=1)\n",
    "features = features_df.columns[:]\n",
    "features"
   ]
  },
  {
   "cell_type": "code",
   "execution_count": 85,
   "metadata": {},
   "outputs": [
    {
     "data": {
      "text/plain": [
       "array([1, 1, 1, ..., 6, 6, 6])"
      ]
     },
     "execution_count": 85,
     "metadata": {},
     "output_type": "execute_result"
    }
   ],
   "source": [
    "#target\n",
    "y = pd.factorize(train['Activity'])[0]+1\n",
    "y"
   ]
  },
  {
   "cell_type": "code",
   "execution_count": 75,
   "metadata": {},
   "outputs": [
    {
     "data": {
      "text/plain": [
       "RandomForestClassifier(bootstrap=True, class_weight=None, criterion='gini',\n",
       "            max_depth=None, max_features='auto', max_leaf_nodes=None,\n",
       "            min_impurity_decrease=0.0, min_impurity_split=None,\n",
       "            min_samples_leaf=1, min_samples_split=2,\n",
       "            min_weight_fraction_leaf=0.0, n_estimators=10, n_jobs=2,\n",
       "            oob_score=False, random_state=0, verbose=0, warm_start=False)"
      ]
     },
     "execution_count": 75,
     "metadata": {},
     "output_type": "execute_result"
    }
   ],
   "source": [
    "# Create random forest Classifier\n",
    "clf = RandomForestClassifier(n_jobs=2, random_state=0)\n",
    "\n",
    "# Train the Classifier to take the training features and learn how they relate\n",
    "# to the training y (activities)\n",
    "clf.fit(train[features], y)"
   ]
  },
  {
   "cell_type": "code",
   "execution_count": 76,
   "metadata": {},
   "outputs": [
    {
     "data": {
      "text/plain": [
       "array([1, 1, 1, ..., 6, 6, 6])"
      ]
     },
     "execution_count": 76,
     "metadata": {},
     "output_type": "execute_result"
    }
   ],
   "source": [
    "# Apply the Classifier we trained to the test data\n",
    "clf.predict(test[features])"
   ]
  },
  {
   "cell_type": "code",
   "execution_count": 77,
   "metadata": {},
   "outputs": [
    {
     "data": {
      "text/plain": [
       "array([[ 1.,  0.,  0.,  0.,  0.,  0.],\n",
       "       [ 1.,  0.,  0.,  0.,  0.,  0.],\n",
       "       [ 1.,  0.,  0.,  0.,  0.,  0.],\n",
       "       [ 1.,  0.,  0.,  0.,  0.,  0.],\n",
       "       [ 1.,  0.,  0.,  0.,  0.,  0.],\n",
       "       [ 1.,  0.,  0.,  0.,  0.,  0.],\n",
       "       [ 1.,  0.,  0.,  0.,  0.,  0.],\n",
       "       [ 1.,  0.,  0.,  0.,  0.,  0.],\n",
       "       [ 1.,  0.,  0.,  0.,  0.,  0.],\n",
       "       [ 1.,  0.,  0.,  0.,  0.,  0.]])"
      ]
     },
     "execution_count": 77,
     "metadata": {},
     "output_type": "execute_result"
    }
   ],
   "source": [
    "# predicted probabilities of the first 10 rows\n",
    "clf.predict_proba(test[features])[0:10]"
   ]
  },
  {
   "cell_type": "code",
   "execution_count": 78,
   "metadata": {},
   "outputs": [
    {
     "data": {
      "text/plain": [
       "array([1, 1, 1, ..., 6, 6, 6])"
      ]
     },
     "execution_count": 78,
     "metadata": {},
     "output_type": "execute_result"
    }
   ],
   "source": [
    "predictions = clf.predict(test[features])\n",
    "predictions"
   ]
  },
  {
   "cell_type": "code",
   "execution_count": 79,
   "metadata": {},
   "outputs": [
    {
     "data": {
      "text/plain": [
       "7     1\n",
       "8     1\n",
       "10    1\n",
       "13    1\n",
       "17    1\n",
       "Name: Activity, dtype: int64"
      ]
     },
     "execution_count": 79,
     "metadata": {},
     "output_type": "execute_result"
    }
   ],
   "source": [
    "test['Activity'].head()"
   ]
  },
  {
   "cell_type": "code",
   "execution_count": 80,
   "metadata": {},
   "outputs": [
    {
     "data": {
      "text/html": [
       "<div>\n",
       "<style>\n",
       "    .dataframe thead tr:only-child th {\n",
       "        text-align: right;\n",
       "    }\n",
       "\n",
       "    .dataframe thead th {\n",
       "        text-align: left;\n",
       "    }\n",
       "\n",
       "    .dataframe tbody tr th {\n",
       "        vertical-align: top;\n",
       "    }\n",
       "</style>\n",
       "<table border=\"1\" class=\"dataframe\">\n",
       "  <thead>\n",
       "    <tr style=\"text-align: right;\">\n",
       "      <th>Predicted Activity</th>\n",
       "      <th>1</th>\n",
       "      <th>2</th>\n",
       "      <th>3</th>\n",
       "      <th>4</th>\n",
       "      <th>5</th>\n",
       "      <th>6</th>\n",
       "    </tr>\n",
       "    <tr>\n",
       "      <th>Actual Activity</th>\n",
       "      <th></th>\n",
       "      <th></th>\n",
       "      <th></th>\n",
       "      <th></th>\n",
       "      <th></th>\n",
       "      <th></th>\n",
       "    </tr>\n",
       "  </thead>\n",
       "  <tbody>\n",
       "    <tr>\n",
       "      <th>1</th>\n",
       "      <td>29823</td>\n",
       "      <td>4</td>\n",
       "      <td>11</td>\n",
       "      <td>6</td>\n",
       "      <td>0</td>\n",
       "      <td>3</td>\n",
       "    </tr>\n",
       "    <tr>\n",
       "      <th>2</th>\n",
       "      <td>2</td>\n",
       "      <td>29993</td>\n",
       "      <td>34</td>\n",
       "      <td>189</td>\n",
       "      <td>0</td>\n",
       "      <td>27</td>\n",
       "    </tr>\n",
       "    <tr>\n",
       "      <th>3</th>\n",
       "      <td>6</td>\n",
       "      <td>132</td>\n",
       "      <td>29958</td>\n",
       "      <td>131</td>\n",
       "      <td>9</td>\n",
       "      <td>39</td>\n",
       "    </tr>\n",
       "    <tr>\n",
       "      <th>4</th>\n",
       "      <td>1</td>\n",
       "      <td>309</td>\n",
       "      <td>181</td>\n",
       "      <td>29659</td>\n",
       "      <td>3</td>\n",
       "      <td>12</td>\n",
       "    </tr>\n",
       "    <tr>\n",
       "      <th>5</th>\n",
       "      <td>0</td>\n",
       "      <td>8</td>\n",
       "      <td>19</td>\n",
       "      <td>49</td>\n",
       "      <td>29624</td>\n",
       "      <td>46</td>\n",
       "    </tr>\n",
       "    <tr>\n",
       "      <th>6</th>\n",
       "      <td>2</td>\n",
       "      <td>84</td>\n",
       "      <td>33</td>\n",
       "      <td>25</td>\n",
       "      <td>35</td>\n",
       "      <td>29931</td>\n",
       "    </tr>\n",
       "  </tbody>\n",
       "</table>\n",
       "</div>"
      ],
      "text/plain": [
       "Predicted Activity      1      2      3      4      5      6\n",
       "Actual Activity                                             \n",
       "1                   29823      4     11      6      0      3\n",
       "2                       2  29993     34    189      0     27\n",
       "3                       6    132  29958    131      9     39\n",
       "4                       1    309    181  29659      3     12\n",
       "5                       0      8     19     49  29624     46\n",
       "6                       2     84     33     25     35  29931"
      ]
     },
     "execution_count": 80,
     "metadata": {},
     "output_type": "execute_result"
    }
   ],
   "source": [
    "# Confusion matrix\n",
    "pd.crosstab(test['Activity'], predictions, rownames=['Actual Activity'], colnames=['Predicted Activity'])"
   ]
  },
  {
   "cell_type": "code",
   "execution_count": 81,
   "metadata": {},
   "outputs": [
    {
     "data": {
      "text/plain": [
       "[('A_xacc', 0.073806476484942693),\n",
       " ('A_xacc', 0.033174093468189066),\n",
       " ('A_xacc', 0.0467514999166148),\n",
       " ('A_xacc', 0.060890015848782099),\n",
       " ('A_xacc', 0.040514449636562352),\n",
       " ('A_xacc', 0.035205901525833957),\n",
       " ('A_xacc', 0.044825540548413791),\n",
       " ('A_xacc', 0.037965916519439674),\n",
       " ('A_xacc', 0.051613266227408028),\n",
       " ('A_xgyro', 0.031939292913561901),\n",
       " ('A_ygyro', 0.044243275534766882),\n",
       " ('A_zgyro', 0.05000084120008319),\n",
       " ('A_xmag', 0.20062884459649605),\n",
       " ('A_ymag', 0.11392397941461348),\n",
       " ('A_zmag', 0.12409720245665687),\n",
       " ('is_left', 0.010419403707635153)]"
      ]
     },
     "execution_count": 81,
     "metadata": {},
     "output_type": "execute_result"
    }
   ],
   "source": [
    "# List of the features and their importance scores\n",
    "list(zip(train[features], clf.feature_importances_))"
   ]
  },
  {
   "cell_type": "code",
   "execution_count": 82,
   "metadata": {},
   "outputs": [
    {
     "name": "stdout",
     "output_type": "stream",
     "text": [
      "             precision    recall  f1-score   support\n",
      "\n",
      "          1       1.00      1.00      1.00     29847\n",
      "          2       0.98      0.99      0.99     30245\n",
      "          3       0.99      0.99      0.99     30275\n",
      "          4       0.99      0.98      0.98     30165\n",
      "          5       1.00      1.00      1.00     29746\n",
      "          6       1.00      0.99      0.99     30110\n",
      "\n",
      "avg / total       0.99      0.99      0.99    180388\n",
      "\n"
     ]
    }
   ],
   "source": [
    "print(classification_report(test['Activity'],predictions))"
   ]
  },
  {
   "cell_type": "code",
   "execution_count": 83,
   "metadata": {},
   "outputs": [
    {
     "name": "stdout",
     "output_type": "stream",
     "text": [
      "Stored 'train' (DataFrame)\n",
      "Stored 'test' (DataFrame)\n",
      "Stored 'y' (ndarray)\n"
     ]
    }
   ],
   "source": [
    "%store train\n",
    "%store test\n",
    "%store y"
   ]
  },
  {
   "cell_type": "code",
   "execution_count": null,
   "metadata": {},
   "outputs": [],
   "source": []
  },
  {
   "cell_type": "code",
   "execution_count": null,
   "metadata": {},
   "outputs": [],
   "source": []
  }
 ],
 "metadata": {
  "kernelspec": {
   "display_name": "Python 2",
   "language": "python",
   "name": "python2"
  },
  "language_info": {
   "codemirror_mode": {
    "name": "ipython",
    "version": 2
   },
   "file_extension": ".py",
   "mimetype": "text/x-python",
   "name": "python",
   "nbconvert_exporter": "python",
   "pygments_lexer": "ipython2",
   "version": "2.7.13"
  }
 },
 "nbformat": 4,
 "nbformat_minor": 2
}
