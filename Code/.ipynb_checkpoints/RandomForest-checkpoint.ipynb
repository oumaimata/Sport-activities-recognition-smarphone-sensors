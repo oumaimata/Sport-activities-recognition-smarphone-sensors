{
 "cells": [
  {
   "cell_type": "code",
   "execution_count": 3,
   "metadata": {
    "collapsed": true
   },
   "outputs": [],
   "source": [
    "%matplotlib inline\n",
    "\n",
    "import pandas as pd\n",
    "import numpy as np\n",
    "import matplotlib.pyplot as plt\n",
    "import seaborn as sns\n",
    "import matplotlib.pyplot as plt\n",
    "\n",
    "# Load scikit's random forest classifier library\n",
    "from sklearn.ensemble import RandomForestClassifier\n",
    "from sklearn.metrics import confusion_matrix, classification_report\n",
    "from sklearn.metrics import accuracy_score\n",
    "\n",
    "# Set random seed\n",
    "np.random.seed(0)"
   ]
  },
  {
   "cell_type": "code",
   "execution_count": 4,
   "metadata": {
    "collapsed": true
   },
   "outputs": [],
   "source": [
    "%store -r data"
   ]
  },
  {
   "cell_type": "code",
   "execution_count": 3,
   "metadata": {
    "collapsed": true
   },
   "outputs": [],
   "source": [
    "#data"
   ]
  },
  {
   "cell_type": "code",
   "execution_count": 5,
   "metadata": {
    "collapsed": false
   },
   "outputs": [
    {
     "data": {
      "text/plain": [
       "array([1, 2, 3, 4, 5, 6])"
      ]
     },
     "execution_count": 5,
     "metadata": {},
     "output_type": "execute_result"
    }
   ],
   "source": [
    "data.Activity.unique() #array([1, 2, 3, 4, 5, 6])"
   ]
  },
  {
   "cell_type": "code",
   "execution_count": 6,
   "metadata": {
    "collapsed": false
   },
   "outputs": [
    {
     "data": {
      "text/html": [
       "<div>\n",
       "<table border=\"1\" class=\"dataframe\">\n",
       "  <thead>\n",
       "    <tr style=\"text-align: right;\">\n",
       "      <th></th>\n",
       "      <th>A_xacc</th>\n",
       "      <th>A_yacc</th>\n",
       "      <th>A_zacc</th>\n",
       "      <th>A_xgyro</th>\n",
       "      <th>A_ygyro</th>\n",
       "      <th>A_zgyro</th>\n",
       "      <th>A_xmag</th>\n",
       "      <th>A_ymag</th>\n",
       "      <th>A_zmag</th>\n",
       "      <th>Subject</th>\n",
       "      <th>Activity</th>\n",
       "      <th>rowData</th>\n",
       "      <th>Frequence</th>\n",
       "      <th>is_left</th>\n",
       "      <th>is_train</th>\n",
       "    </tr>\n",
       "  </thead>\n",
       "  <tbody>\n",
       "    <tr>\n",
       "      <th>0</th>\n",
       "      <td>-0.39088</td>\n",
       "      <td>-6.9683</td>\n",
       "      <td>6.9030</td>\n",
       "      <td>-0.014133</td>\n",
       "      <td>0.003125</td>\n",
       "      <td>-0.011263</td>\n",
       "      <td>-0.067876</td>\n",
       "      <td>0.79872</td>\n",
       "      <td>-0.21041</td>\n",
       "      <td>1</td>\n",
       "      <td>1</td>\n",
       "      <td>1</td>\n",
       "      <td>1</td>\n",
       "      <td>1</td>\n",
       "      <td>True</td>\n",
       "    </tr>\n",
       "    <tr>\n",
       "      <th>1</th>\n",
       "      <td>-0.35910</td>\n",
       "      <td>-7.0292</td>\n",
       "      <td>6.9094</td>\n",
       "      <td>-0.000001</td>\n",
       "      <td>0.004322</td>\n",
       "      <td>-0.004176</td>\n",
       "      <td>-0.067793</td>\n",
       "      <td>0.79870</td>\n",
       "      <td>-0.20877</td>\n",
       "      <td>1</td>\n",
       "      <td>1</td>\n",
       "      <td>2</td>\n",
       "      <td>2</td>\n",
       "      <td>1</td>\n",
       "      <td>False</td>\n",
       "    </tr>\n",
       "    <tr>\n",
       "      <th>2</th>\n",
       "      <td>-0.35433</td>\n",
       "      <td>-6.9685</td>\n",
       "      <td>6.8987</td>\n",
       "      <td>0.007218</td>\n",
       "      <td>-0.006623</td>\n",
       "      <td>-0.007716</td>\n",
       "      <td>-0.067630</td>\n",
       "      <td>0.79884</td>\n",
       "      <td>-0.21053</td>\n",
       "      <td>1</td>\n",
       "      <td>1</td>\n",
       "      <td>3</td>\n",
       "      <td>3</td>\n",
       "      <td>1</td>\n",
       "      <td>True</td>\n",
       "    </tr>\n",
       "    <tr>\n",
       "      <th>3</th>\n",
       "      <td>-0.36155</td>\n",
       "      <td>-7.0195</td>\n",
       "      <td>6.8994</td>\n",
       "      <td>-0.008128</td>\n",
       "      <td>-0.004702</td>\n",
       "      <td>0.001095</td>\n",
       "      <td>-0.066574</td>\n",
       "      <td>0.79853</td>\n",
       "      <td>-0.20959</td>\n",
       "      <td>1</td>\n",
       "      <td>1</td>\n",
       "      <td>4</td>\n",
       "      <td>4</td>\n",
       "      <td>1</td>\n",
       "      <td>True</td>\n",
       "    </tr>\n",
       "    <tr>\n",
       "      <th>4</th>\n",
       "      <td>-0.36405</td>\n",
       "      <td>-6.9903</td>\n",
       "      <td>6.9136</td>\n",
       "      <td>-0.001434</td>\n",
       "      <td>-0.012473</td>\n",
       "      <td>-0.020107</td>\n",
       "      <td>-0.066845</td>\n",
       "      <td>0.79829</td>\n",
       "      <td>-0.20997</td>\n",
       "      <td>1</td>\n",
       "      <td>1</td>\n",
       "      <td>5</td>\n",
       "      <td>5</td>\n",
       "      <td>1</td>\n",
       "      <td>True</td>\n",
       "    </tr>\n",
       "  </tbody>\n",
       "</table>\n",
       "</div>"
      ],
      "text/plain": [
       "    A_xacc  A_yacc  A_zacc   A_xgyro   A_ygyro   A_zgyro    A_xmag   A_ymag  \\\n",
       "0 -0.39088 -6.9683  6.9030 -0.014133  0.003125 -0.011263 -0.067876  0.79872   \n",
       "1 -0.35910 -7.0292  6.9094 -0.000001  0.004322 -0.004176 -0.067793  0.79870   \n",
       "2 -0.35433 -6.9685  6.8987  0.007218 -0.006623 -0.007716 -0.067630  0.79884   \n",
       "3 -0.36155 -7.0195  6.8994 -0.008128 -0.004702  0.001095 -0.066574  0.79853   \n",
       "4 -0.36405 -6.9903  6.9136 -0.001434 -0.012473 -0.020107 -0.066845  0.79829   \n",
       "\n",
       "    A_zmag  Subject  Activity  rowData  Frequence  is_left is_train  \n",
       "0 -0.21041        1         1        1          1        1     True  \n",
       "1 -0.20877        1         1        2          2        1    False  \n",
       "2 -0.21053        1         1        3          3        1     True  \n",
       "3 -0.20959        1         1        4          4        1     True  \n",
       "4 -0.20997        1         1        5          5        1     True  "
      ]
     },
     "execution_count": 6,
     "metadata": {},
     "output_type": "execute_result"
    }
   ],
   "source": [
    "# New Column 'isTrain' == True for a row if random number generated (between 0 and 1) is less than or equal to .7\n",
    "# and false otherwise\n",
    "\n",
    "data['is_train'] = np.random.uniform(0, 1, len(data)) <= .7\n",
    "data.head()"
   ]
  },
  {
   "cell_type": "markdown",
   "metadata": {},
   "source": [
    "## Create Train and Test Data"
   ]
  },
  {
   "cell_type": "code",
   "execution_count": 7,
   "metadata": {
    "collapsed": false
   },
   "outputs": [
    {
     "name": "stdout",
     "output_type": "stream",
     "text": [
      "Number of rows the training set: 503793\n",
      "Number of rows in the test set: 216207\n"
     ]
    }
   ],
   "source": [
    "# 2 dataFrames: for Training and Testing\n",
    "train, test = data[data['is_train']==True], data[data['is_train']==False]\n",
    "print('Number of rows the training set:', len(train))\n",
    "print('Number of rows in the test set:',len(test))"
   ]
  },
  {
   "cell_type": "code",
   "execution_count": 8,
   "metadata": {
    "collapsed": false
   },
   "outputs": [
    {
     "data": {
      "text/plain": [
       "Index(['A_xacc', 'A_yacc', 'A_zacc', 'A_xgyro', 'A_ygyro', 'A_zgyro', 'A_xmag',\n",
       "       'A_ymag', 'A_zmag', 'is_left'],\n",
       "      dtype='object')"
      ]
     },
     "execution_count": 8,
     "metadata": {},
     "output_type": "execute_result"
    }
   ],
   "source": [
    "# list of the feature column's names\n",
    "features_df = data.drop([\"Activity\",\"Subject\",\"rowData\",\"Frequence\",\"is_train\"],axis=1)\n",
    "features = features_df.columns[:]\n",
    "features"
   ]
  },
  {
   "cell_type": "code",
   "execution_count": 9,
   "metadata": {
    "collapsed": false
   },
   "outputs": [
    {
     "data": {
      "text/plain": [
       "array([1, 1, 1, ..., 6, 6, 6])"
      ]
     },
     "execution_count": 9,
     "metadata": {},
     "output_type": "execute_result"
    }
   ],
   "source": [
    "#target\n",
    "y = pd.factorize(train['Activity'])[0]+1\n",
    "y"
   ]
  },
  {
   "cell_type": "markdown",
   "metadata": {},
   "source": [
    "### Random Forest Classifier"
   ]
  },
  {
   "cell_type": "code",
   "execution_count": 10,
   "metadata": {
    "collapsed": false
   },
   "outputs": [
    {
     "data": {
      "text/plain": [
       "RandomForestClassifier(bootstrap=True, class_weight=None, criterion='gini',\n",
       "            max_depth=None, max_features='auto', max_leaf_nodes=None,\n",
       "            min_impurity_split=1e-07, min_samples_leaf=1,\n",
       "            min_samples_split=2, min_weight_fraction_leaf=0.0,\n",
       "            n_estimators=10, n_jobs=2, oob_score=False, random_state=0,\n",
       "            verbose=0, warm_start=False)"
      ]
     },
     "execution_count": 10,
     "metadata": {},
     "output_type": "execute_result"
    }
   ],
   "source": [
    "# Create random forest Classifier\n",
    "clf = RandomForestClassifier(n_jobs=2, random_state=0)\n",
    "\n",
    "# Train the Classifier to take the training features and learn how they relate\n",
    "# to the training y (activities)\n",
    "clf.fit(train[features], y)"
   ]
  },
  {
   "cell_type": "markdown",
   "metadata": {},
   "source": [
    "## Accuracy Metrics for Test Data"
   ]
  },
  {
   "cell_type": "code",
   "execution_count": 11,
   "metadata": {
    "collapsed": false
   },
   "outputs": [
    {
     "data": {
      "text/plain": [
       "array([1, 1, 1, ..., 6, 6, 6])"
      ]
     },
     "execution_count": 11,
     "metadata": {},
     "output_type": "execute_result"
    }
   ],
   "source": [
    "# Apply the Classifier we trained to the test data\n",
    "clf.predict(test[features])"
   ]
  },
  {
   "cell_type": "code",
   "execution_count": 12,
   "metadata": {
    "collapsed": false
   },
   "outputs": [
    {
     "data": {
      "text/plain": [
       "array([[ 1.,  0.,  0.,  0.,  0.,  0.],\n",
       "       [ 1.,  0.,  0.,  0.,  0.,  0.],\n",
       "       [ 1.,  0.,  0.,  0.,  0.,  0.],\n",
       "       [ 1.,  0.,  0.,  0.,  0.,  0.],\n",
       "       [ 1.,  0.,  0.,  0.,  0.,  0.],\n",
       "       [ 1.,  0.,  0.,  0.,  0.,  0.],\n",
       "       [ 1.,  0.,  0.,  0.,  0.,  0.],\n",
       "       [ 1.,  0.,  0.,  0.,  0.,  0.],\n",
       "       [ 1.,  0.,  0.,  0.,  0.,  0.],\n",
       "       [ 1.,  0.,  0.,  0.,  0.,  0.]])"
      ]
     },
     "execution_count": 12,
     "metadata": {},
     "output_type": "execute_result"
    }
   ],
   "source": [
    "# predicted probabilities of the first 10 rows\n",
    "clf.predict_proba(test[features])[0:10]"
   ]
  },
  {
   "cell_type": "code",
   "execution_count": 13,
   "metadata": {
    "collapsed": false
   },
   "outputs": [
    {
     "data": {
      "text/plain": [
       "array([1, 1, 1, ..., 6, 6, 6])"
      ]
     },
     "execution_count": 13,
     "metadata": {},
     "output_type": "execute_result"
    }
   ],
   "source": [
    "predictionsRF = clf.predict(test[features])\n",
    "predictionsRF"
   ]
  },
  {
   "cell_type": "code",
   "execution_count": 14,
   "metadata": {
    "collapsed": false
   },
   "outputs": [
    {
     "data": {
      "text/plain": [
       "1     1\n",
       "7     1\n",
       "8     1\n",
       "10    1\n",
       "13    1\n",
       "Name: Activity, dtype: int64"
      ]
     },
     "execution_count": 14,
     "metadata": {},
     "output_type": "execute_result"
    }
   ],
   "source": [
    "test['Activity'].head()"
   ]
  },
  {
   "cell_type": "markdown",
   "metadata": {},
   "source": [
    "### Confusion matrix"
   ]
  },
  {
   "cell_type": "code",
   "execution_count": 15,
   "metadata": {
    "collapsed": false
   },
   "outputs": [
    {
     "data": {
      "text/html": [
       "<div>\n",
       "<table border=\"1\" class=\"dataframe\">\n",
       "  <thead>\n",
       "    <tr style=\"text-align: right;\">\n",
       "      <th>Predicted Activity</th>\n",
       "      <th>1</th>\n",
       "      <th>2</th>\n",
       "      <th>3</th>\n",
       "      <th>4</th>\n",
       "      <th>5</th>\n",
       "      <th>6</th>\n",
       "    </tr>\n",
       "    <tr>\n",
       "      <th>Actual Activity</th>\n",
       "      <th></th>\n",
       "      <th></th>\n",
       "      <th></th>\n",
       "      <th></th>\n",
       "      <th></th>\n",
       "      <th></th>\n",
       "    </tr>\n",
       "  </thead>\n",
       "  <tbody>\n",
       "    <tr>\n",
       "      <th>1</th>\n",
       "      <td>35714</td>\n",
       "      <td>3</td>\n",
       "      <td>21</td>\n",
       "      <td>7</td>\n",
       "      <td>1</td>\n",
       "      <td>4</td>\n",
       "    </tr>\n",
       "    <tr>\n",
       "      <th>2</th>\n",
       "      <td>0</td>\n",
       "      <td>36021</td>\n",
       "      <td>49</td>\n",
       "      <td>184</td>\n",
       "      <td>1</td>\n",
       "      <td>18</td>\n",
       "    </tr>\n",
       "    <tr>\n",
       "      <th>3</th>\n",
       "      <td>2</td>\n",
       "      <td>132</td>\n",
       "      <td>35923</td>\n",
       "      <td>151</td>\n",
       "      <td>5</td>\n",
       "      <td>34</td>\n",
       "    </tr>\n",
       "    <tr>\n",
       "      <th>4</th>\n",
       "      <td>2</td>\n",
       "      <td>274</td>\n",
       "      <td>185</td>\n",
       "      <td>35612</td>\n",
       "      <td>2</td>\n",
       "      <td>6</td>\n",
       "    </tr>\n",
       "    <tr>\n",
       "      <th>5</th>\n",
       "      <td>0</td>\n",
       "      <td>7</td>\n",
       "      <td>23</td>\n",
       "      <td>44</td>\n",
       "      <td>35522</td>\n",
       "      <td>57</td>\n",
       "    </tr>\n",
       "    <tr>\n",
       "      <th>6</th>\n",
       "      <td>0</td>\n",
       "      <td>97</td>\n",
       "      <td>35</td>\n",
       "      <td>27</td>\n",
       "      <td>23</td>\n",
       "      <td>36021</td>\n",
       "    </tr>\n",
       "  </tbody>\n",
       "</table>\n",
       "</div>"
      ],
      "text/plain": [
       "Predicted Activity      1      2      3      4      5      6\n",
       "Actual Activity                                             \n",
       "1                   35714      3     21      7      1      4\n",
       "2                       0  36021     49    184      1     18\n",
       "3                       2    132  35923    151      5     34\n",
       "4                       2    274    185  35612      2      6\n",
       "5                       0      7     23     44  35522     57\n",
       "6                       0     97     35     27     23  36021"
      ]
     },
     "execution_count": 15,
     "metadata": {},
     "output_type": "execute_result"
    }
   ],
   "source": [
    "pd.crosstab(test['Activity'], predictionsRF, rownames=['Actual Activity'], colnames=['Predicted Activity'])"
   ]
  },
  {
   "cell_type": "code",
   "execution_count": 16,
   "metadata": {
    "collapsed": false
   },
   "outputs": [
    {
     "data": {
      "text/plain": [
       "<matplotlib.axes._subplots.AxesSubplot at 0x110386080>"
      ]
     },
     "execution_count": 16,
     "metadata": {},
     "output_type": "execute_result"
    },
    {
     "data": {
      "image/png": "[encoded data removed]",
      "text/plain": [
       "<matplotlib.figure.Figure at 0x1101b1ba8>"
      ]
     },
     "metadata": {},
     "output_type": "display_data"
    }
   ],
   "source": [
    "sns.heatmap(data=confusion_matrix(test['Activity'],predictionsRF),\n",
    "            fmt='.0f',\n",
    "            annot=True,\n",
    "            xticklabels=np.unique(test['Activity']),\n",
    "            yticklabels=np.unique(test['Activity']))"
   ]
  },
  {
   "cell_type": "code",
   "execution_count": 17,
   "metadata": {
    "collapsed": false
   },
   "outputs": [
    {
     "data": {
      "text/plain": [
       "[('A_xacc', 0.14075057057139484),\n",
       " ('A_yacc', 0.070650803572211401),\n",
       " ('A_zacc', 0.093262501422043842),\n",
       " ('A_xgyro', 0.042501229303196456),\n",
       " ('A_ygyro', 0.092960410880156941),\n",
       " ('A_zgyro', 0.073995472386010036),\n",
       " ('A_xmag', 0.20354719382062597),\n",
       " ('A_ymag', 0.13029565007532232),\n",
       " ('A_zmag', 0.13637767256247357),\n",
       " ('is_left', 0.015658495406564603)]"
      ]
     },
     "execution_count": 17,
     "metadata": {},
     "output_type": "execute_result"
    }
   ],
   "source": [
    "# List of the features and their importance scores\n",
    "list(zip(train[features], clf.feature_importances_))"
   ]
  },
  {
   "cell_type": "code",
   "execution_count": 18,
   "metadata": {
    "collapsed": false
   },
   "outputs": [
    {
     "name": "stdout",
     "output_type": "stream",
     "text": [
      "             precision    recall  f1-score   support\n",
      "\n",
      "          1       1.00      1.00      1.00     35750\n",
      "          2       0.99      0.99      0.99     36273\n",
      "          3       0.99      0.99      0.99     36247\n",
      "          4       0.99      0.99      0.99     36081\n",
      "          5       1.00      1.00      1.00     35653\n",
      "          6       1.00      0.99      1.00     36203\n",
      "\n",
      "avg / total       0.99      0.99      0.99    216207\n",
      "\n"
     ]
    }
   ],
   "source": [
    "print(classification_report(test['Activity'],predictionsRF))"
   ]
  },
  {
   "cell_type": "code",
   "execution_count": 19,
   "metadata": {
    "collapsed": false
   },
   "outputs": [
    {
     "data": {
      "text/plain": [
       "0.99355247517425427"
      ]
     },
     "execution_count": 19,
     "metadata": {},
     "output_type": "execute_result"
    }
   ],
   "source": [
    "accuracy_score(test['Activity'],predictionsRF)"
   ]
  },
  {
   "cell_type": "code",
   "execution_count": 20,
   "metadata": {
    "collapsed": false
   },
   "outputs": [
    {
     "name": "stdout",
     "output_type": "stream",
     "text": [
      "Stored 'train' (DataFrame)\n",
      "Stored 'test' (DataFrame)\n",
      "Stored 'y' (ndarray)\n",
      "Stored 'features' (Index)\n"
     ]
    }
   ],
   "source": [
    "%store train\n",
    "%store test\n",
    "%store y\n",
    "%store features"
   ]
  },
  {
   "cell_type": "code",
   "execution_count": null,
   "metadata": {
    "collapsed": true
   },
   "outputs": [],
   "source": []
  },
  {
   "cell_type": "code",
   "execution_count": 23,
   "metadata": {
    "collapsed": false
   },
   "outputs": [
    {
     "data": {
      "text/plain": [
       "Index(['A_xacc', 'A_yacc', 'A_zacc', 'A_xgyro', 'A_ygyro', 'A_zgyro', 'A_xmag',\n",
       "       'A_ymag', 'A_zmag', 'is_left'],\n",
       "      dtype='object')"
      ]
     },
     "execution_count": 23,
     "metadata": {},
     "output_type": "execute_result"
    }
   ],
   "source": [
    "# scatterplot : distribution of final variables for each activity\n",
    "# sns.plt.figure(figsize=(6,6))\n",
    "# sns.set_style('whitegrid')\n",
    "\n",
    "# sns.pairplot(data=train[[col for col in features]+['Activity']],\n",
    "#              hue='Activity',\n",
    "#              palette='Set2',\n",
    "#              diag_kind='kde')\n"
   ]
  },
  {
   "cell_type": "code",
   "execution_count": null,
   "metadata": {
    "collapsed": true
   },
   "outputs": [],
   "source": []
  }
 ],
 "metadata": {
  "kernelspec": {
   "display_name": "Python 3",
   "language": "python",
   "name": "python3"
  },
  "language_info": {
   "codemirror_mode": {
    "name": "ipython",
    "version": 3
   },
   "file_extension": ".py",
   "mimetype": "text/x-python",
   "name": "python",
   "nbconvert_exporter": "python",
   "pygments_lexer": "ipython3",
   "version": "3.6.0"
  }
 },
 "nbformat": 4,
 "nbformat_minor": 2
}
