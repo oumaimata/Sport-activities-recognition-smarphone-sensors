{
 "cells": [
  {
   "cell_type": "code",
   "execution_count": 33,
   "metadata": {
    "collapsed": true
   },
   "outputs": [],
   "source": [
    "%matplotlib inline\n",
    "\n",
    "import pandas as pd\n",
    "import numpy as np\n",
    "import matplotlib.pyplot as plt\n",
    "import seaborn as sns\n",
    "import matplotlib.pyplot as plt\n",
    "\n",
    "# Load scikit's random forest classifier library\n",
    "from sklearn.ensemble import RandomForestClassifier\n",
    "from sklearn.metrics import confusion_matrix, classification_report\n",
    "from sklearn.metrics import accuracy_score\n",
    "\n",
    "# Set random seed\n",
    "np.random.seed(0)"
   ]
  },
  {
   "cell_type": "code",
   "execution_count": 2,
   "metadata": {
    "collapsed": true
   },
   "outputs": [],
   "source": [
    "%store -r data"
   ]
  },
  {
   "cell_type": "code",
   "execution_count": 35,
   "metadata": {
    "collapsed": false
   },
   "outputs": [],
   "source": [
    "#data"
   ]
  },
  {
   "cell_type": "code",
   "execution_count": 4,
   "metadata": {
    "collapsed": false
   },
   "outputs": [
    {
     "data": {
      "text/plain": [
       "array([1, 2, 3, 4, 5, 6])"
      ]
     },
     "execution_count": 4,
     "metadata": {},
     "output_type": "execute_result"
    }
   ],
   "source": [
    "data.Activity.unique() #array([1, 2, 3, 4, 5, 6])"
   ]
  },
  {
   "cell_type": "code",
   "execution_count": 5,
   "metadata": {
    "collapsed": false
   },
   "outputs": [
    {
     "data": {
      "text/html": [
       "<div>\n",
       "<table border=\"1\" class=\"dataframe\">\n",
       "  <thead>\n",
       "    <tr style=\"text-align: right;\">\n",
       "      <th></th>\n",
       "      <th>RA_xacc</th>\n",
       "      <th>RA_yacc</th>\n",
       "      <th>RA_zacc</th>\n",
       "      <th>RA_xgyro</th>\n",
       "      <th>RA_ygyro</th>\n",
       "      <th>RA_zgyro</th>\n",
       "      <th>RA_xmag</th>\n",
       "      <th>RA_ymag</th>\n",
       "      <th>RA_zmag</th>\n",
       "      <th>LA_xacc</th>\n",
       "      <th>...</th>\n",
       "      <th>LA_ygyro</th>\n",
       "      <th>LA_zgyro</th>\n",
       "      <th>LA_xmag</th>\n",
       "      <th>LA_ymag</th>\n",
       "      <th>LA_zmag</th>\n",
       "      <th>Subject</th>\n",
       "      <th>Activity</th>\n",
       "      <th>rowData</th>\n",
       "      <th>Frequence</th>\n",
       "      <th>is_train</th>\n",
       "    </tr>\n",
       "  </thead>\n",
       "  <tbody>\n",
       "    <tr>\n",
       "      <th>0</th>\n",
       "      <td>-0.60784</td>\n",
       "      <td>1.3908</td>\n",
       "      <td>9.7056</td>\n",
       "      <td>-0.003695</td>\n",
       "      <td>-0.007452</td>\n",
       "      <td>0.001598</td>\n",
       "      <td>-0.33699</td>\n",
       "      <td>-0.10005</td>\n",
       "      <td>-0.95706</td>\n",
       "      <td>-0.39088</td>\n",
       "      <td>...</td>\n",
       "      <td>0.003125</td>\n",
       "      <td>-0.011263</td>\n",
       "      <td>-0.067876</td>\n",
       "      <td>0.79872</td>\n",
       "      <td>-0.21041</td>\n",
       "      <td>1</td>\n",
       "      <td>1</td>\n",
       "      <td>1</td>\n",
       "      <td>1</td>\n",
       "      <td>True</td>\n",
       "    </tr>\n",
       "    <tr>\n",
       "      <th>1</th>\n",
       "      <td>-0.60314</td>\n",
       "      <td>1.4491</td>\n",
       "      <td>9.6961</td>\n",
       "      <td>0.014373</td>\n",
       "      <td>0.003043</td>\n",
       "      <td>-0.009156</td>\n",
       "      <td>-0.33723</td>\n",
       "      <td>-0.10084</td>\n",
       "      <td>-0.95680</td>\n",
       "      <td>-0.35910</td>\n",
       "      <td>...</td>\n",
       "      <td>0.004322</td>\n",
       "      <td>-0.004176</td>\n",
       "      <td>-0.067793</td>\n",
       "      <td>0.79870</td>\n",
       "      <td>-0.20877</td>\n",
       "      <td>1</td>\n",
       "      <td>1</td>\n",
       "      <td>2</td>\n",
       "      <td>2</td>\n",
       "      <td>True</td>\n",
       "    </tr>\n",
       "    <tr>\n",
       "      <th>2</th>\n",
       "      <td>-0.61312</td>\n",
       "      <td>1.5000</td>\n",
       "      <td>9.6842</td>\n",
       "      <td>-0.000147</td>\n",
       "      <td>-0.000306</td>\n",
       "      <td>0.009623</td>\n",
       "      <td>-0.33727</td>\n",
       "      <td>-0.10043</td>\n",
       "      <td>-0.95746</td>\n",
       "      <td>-0.35433</td>\n",
       "      <td>...</td>\n",
       "      <td>-0.006623</td>\n",
       "      <td>-0.007716</td>\n",
       "      <td>-0.067630</td>\n",
       "      <td>0.79884</td>\n",
       "      <td>-0.21053</td>\n",
       "      <td>1</td>\n",
       "      <td>1</td>\n",
       "      <td>3</td>\n",
       "      <td>3</td>\n",
       "      <td>True</td>\n",
       "    </tr>\n",
       "    <tr>\n",
       "      <th>3</th>\n",
       "      <td>-0.60561</td>\n",
       "      <td>1.4297</td>\n",
       "      <td>9.6790</td>\n",
       "      <td>0.024193</td>\n",
       "      <td>-0.007612</td>\n",
       "      <td>-0.013744</td>\n",
       "      <td>-0.33686</td>\n",
       "      <td>-0.09966</td>\n",
       "      <td>-0.95693</td>\n",
       "      <td>-0.36155</td>\n",
       "      <td>...</td>\n",
       "      <td>-0.004702</td>\n",
       "      <td>0.001095</td>\n",
       "      <td>-0.066574</td>\n",
       "      <td>0.79853</td>\n",
       "      <td>-0.20959</td>\n",
       "      <td>1</td>\n",
       "      <td>1</td>\n",
       "      <td>4</td>\n",
       "      <td>4</td>\n",
       "      <td>True</td>\n",
       "    </tr>\n",
       "    <tr>\n",
       "      <th>4</th>\n",
       "      <td>-0.60825</td>\n",
       "      <td>1.4976</td>\n",
       "      <td>9.6769</td>\n",
       "      <td>0.008742</td>\n",
       "      <td>-0.011820</td>\n",
       "      <td>0.007711</td>\n",
       "      <td>-0.33740</td>\n",
       "      <td>-0.10030</td>\n",
       "      <td>-0.95747</td>\n",
       "      <td>-0.36405</td>\n",
       "      <td>...</td>\n",
       "      <td>-0.012473</td>\n",
       "      <td>-0.020107</td>\n",
       "      <td>-0.066845</td>\n",
       "      <td>0.79829</td>\n",
       "      <td>-0.20997</td>\n",
       "      <td>1</td>\n",
       "      <td>1</td>\n",
       "      <td>5</td>\n",
       "      <td>5</td>\n",
       "      <td>True</td>\n",
       "    </tr>\n",
       "  </tbody>\n",
       "</table>\n",
       "<p>5 rows × 23 columns</p>\n",
       "</div>"
      ],
      "text/plain": [
       "   RA_xacc  RA_yacc  RA_zacc  RA_xgyro  RA_ygyro  RA_zgyro  RA_xmag  RA_ymag  \\\n",
       "0 -0.60784   1.3908   9.7056 -0.003695 -0.007452  0.001598 -0.33699 -0.10005   \n",
       "1 -0.60314   1.4491   9.6961  0.014373  0.003043 -0.009156 -0.33723 -0.10084   \n",
       "2 -0.61312   1.5000   9.6842 -0.000147 -0.000306  0.009623 -0.33727 -0.10043   \n",
       "3 -0.60561   1.4297   9.6790  0.024193 -0.007612 -0.013744 -0.33686 -0.09966   \n",
       "4 -0.60825   1.4976   9.6769  0.008742 -0.011820  0.007711 -0.33740 -0.10030   \n",
       "\n",
       "   RA_zmag  LA_xacc    ...     LA_ygyro  LA_zgyro   LA_xmag  LA_ymag  LA_zmag  \\\n",
       "0 -0.95706 -0.39088    ...     0.003125 -0.011263 -0.067876  0.79872 -0.21041   \n",
       "1 -0.95680 -0.35910    ...     0.004322 -0.004176 -0.067793  0.79870 -0.20877   \n",
       "2 -0.95746 -0.35433    ...    -0.006623 -0.007716 -0.067630  0.79884 -0.21053   \n",
       "3 -0.95693 -0.36155    ...    -0.004702  0.001095 -0.066574  0.79853 -0.20959   \n",
       "4 -0.95747 -0.36405    ...    -0.012473 -0.020107 -0.066845  0.79829 -0.20997   \n",
       "\n",
       "   Subject  Activity  rowData  Frequence  is_train  \n",
       "0        1         1        1          1      True  \n",
       "1        1         1        2          2      True  \n",
       "2        1         1        3          3      True  \n",
       "3        1         1        4          4      True  \n",
       "4        1         1        5          5      True  \n",
       "\n",
       "[5 rows x 23 columns]"
      ]
     },
     "execution_count": 5,
     "metadata": {},
     "output_type": "execute_result"
    }
   ],
   "source": [
    "# New Column 'isTrain' == True for a row if random number generated (between 0 and 1) is less than or equal to .75\n",
    "# and false otherwise\n",
    "\n",
    "data['is_train'] = np.random.uniform(0, 1, len(data)) <= .75\n",
    "data.head()"
   ]
  },
  {
   "cell_type": "code",
   "execution_count": 6,
   "metadata": {
    "collapsed": false
   },
   "outputs": [
    {
     "name": "stdout",
     "output_type": "stream",
     "text": [
      "Number of rows the training set: 270020\n",
      "Number of rows in the test set: 89980\n"
     ]
    }
   ],
   "source": [
    "# 2 dataFrames: for Training and Testing\n",
    "train, test = data[data['is_train']==True], data[data['is_train']==False]\n",
    "print('Number of rows the training set:', len(train))\n",
    "print('Number of rows in the test set:',len(test))"
   ]
  },
  {
   "cell_type": "code",
   "execution_count": 26,
   "metadata": {
    "collapsed": false
   },
   "outputs": [
    {
     "data": {
      "text/plain": [
       "Index(['RA_xacc', 'RA_yacc', 'RA_zacc', 'RA_xgyro', 'RA_ygyro', 'RA_zgyro',\n",
       "       'RA_xmag', 'RA_ymag', 'RA_zmag', 'LA_xacc', 'LA_yacc', 'LA_zacc',\n",
       "       'LA_xgyro', 'LA_ygyro', 'LA_zgyro', 'LA_xmag', 'LA_ymag', 'LA_zmag'],\n",
       "      dtype='object')"
      ]
     },
     "execution_count": 26,
     "metadata": {},
     "output_type": "execute_result"
    }
   ],
   "source": [
    "# list of the feature column's names\n",
    "features = data.columns[:18]\n",
    "features"
   ]
  },
  {
   "cell_type": "code",
   "execution_count": 27,
   "metadata": {
    "collapsed": false
   },
   "outputs": [
    {
     "data": {
      "text/plain": [
       "array([1, 1, 1, ..., 6, 6, 6])"
      ]
     },
     "execution_count": 27,
     "metadata": {},
     "output_type": "execute_result"
    }
   ],
   "source": [
    "#target\n",
    "y = pd.factorize(train['Activity'])[0]+1\n",
    "y"
   ]
  },
  {
   "cell_type": "code",
   "execution_count": 28,
   "metadata": {
    "collapsed": false
   },
   "outputs": [
    {
     "data": {
      "text/plain": [
       "RandomForestClassifier(bootstrap=True, class_weight=None, criterion='gini',\n",
       "            max_depth=None, max_features='auto', max_leaf_nodes=None,\n",
       "            min_impurity_split=1e-07, min_samples_leaf=1,\n",
       "            min_samples_split=2, min_weight_fraction_leaf=0.0,\n",
       "            n_estimators=10, n_jobs=2, oob_score=False, random_state=0,\n",
       "            verbose=0, warm_start=False)"
      ]
     },
     "execution_count": 28,
     "metadata": {},
     "output_type": "execute_result"
    }
   ],
   "source": [
    "# Create random forest Classifier\n",
    "clf = RandomForestClassifier(n_jobs=2, random_state=0)\n",
    "\n",
    "# Train the Classifier to take the training features and learn how they relate\n",
    "# to the training y (activities)\n",
    "clf.fit(X, y)"
   ]
  },
  {
   "cell_type": "code",
   "execution_count": 10,
   "metadata": {
    "collapsed": false
   },
   "outputs": [
    {
     "data": {
      "text/plain": [
       "array([1, 1, 1, ..., 6, 6, 6])"
      ]
     },
     "execution_count": 10,
     "metadata": {},
     "output_type": "execute_result"
    }
   ],
   "source": [
    "# Apply the Classifier we trained to the test data\n",
    "clf.predict(test[features])"
   ]
  },
  {
   "cell_type": "code",
   "execution_count": 11,
   "metadata": {
    "collapsed": false
   },
   "outputs": [
    {
     "data": {
      "text/plain": [
       "array([[ 1.,  0.,  0.,  0.,  0.,  0.],\n",
       "       [ 1.,  0.,  0.,  0.,  0.,  0.],\n",
       "       [ 1.,  0.,  0.,  0.,  0.,  0.],\n",
       "       [ 1.,  0.,  0.,  0.,  0.,  0.],\n",
       "       [ 1.,  0.,  0.,  0.,  0.,  0.],\n",
       "       [ 1.,  0.,  0.,  0.,  0.,  0.],\n",
       "       [ 1.,  0.,  0.,  0.,  0.,  0.],\n",
       "       [ 1.,  0.,  0.,  0.,  0.,  0.],\n",
       "       [ 1.,  0.,  0.,  0.,  0.,  0.],\n",
       "       [ 1.,  0.,  0.,  0.,  0.,  0.]])"
      ]
     },
     "execution_count": 11,
     "metadata": {},
     "output_type": "execute_result"
    }
   ],
   "source": [
    "# predicted probabilities of the first 10 rows\n",
    "clf.predict_proba(test[features])[0:10]"
   ]
  },
  {
   "cell_type": "code",
   "execution_count": 12,
   "metadata": {
    "collapsed": false
   },
   "outputs": [
    {
     "data": {
      "text/plain": [
       "array([1, 1, 1, ..., 6, 6, 6])"
      ]
     },
     "execution_count": 12,
     "metadata": {},
     "output_type": "execute_result"
    }
   ],
   "source": [
    "predictions = clf.predict(test[features])\n",
    "predictions"
   ]
  },
  {
   "cell_type": "code",
   "execution_count": 13,
   "metadata": {
    "collapsed": false
   },
   "outputs": [
    {
     "data": {
      "text/plain": [
       "7     1\n",
       "8     1\n",
       "10    1\n",
       "13    1\n",
       "17    1\n",
       "Name: Activity, dtype: int64"
      ]
     },
     "execution_count": 13,
     "metadata": {},
     "output_type": "execute_result"
    }
   ],
   "source": [
    "test['Activity'].head()"
   ]
  },
  {
   "cell_type": "code",
   "execution_count": 14,
   "metadata": {
    "collapsed": false
   },
   "outputs": [
    {
     "data": {
      "text/html": [
       "<div>\n",
       "<table border=\"1\" class=\"dataframe\">\n",
       "  <thead>\n",
       "    <tr style=\"text-align: right;\">\n",
       "      <th>Predicted Activity</th>\n",
       "      <th>1</th>\n",
       "      <th>2</th>\n",
       "      <th>3</th>\n",
       "      <th>4</th>\n",
       "      <th>5</th>\n",
       "      <th>6</th>\n",
       "    </tr>\n",
       "    <tr>\n",
       "      <th>Actual Activity</th>\n",
       "      <th></th>\n",
       "      <th></th>\n",
       "      <th></th>\n",
       "      <th></th>\n",
       "      <th></th>\n",
       "      <th></th>\n",
       "    </tr>\n",
       "  </thead>\n",
       "  <tbody>\n",
       "    <tr>\n",
       "      <th>1</th>\n",
       "      <td>14911</td>\n",
       "      <td>0</td>\n",
       "      <td>5</td>\n",
       "      <td>0</td>\n",
       "      <td>0</td>\n",
       "      <td>0</td>\n",
       "    </tr>\n",
       "    <tr>\n",
       "      <th>2</th>\n",
       "      <td>0</td>\n",
       "      <td>15210</td>\n",
       "      <td>3</td>\n",
       "      <td>2</td>\n",
       "      <td>0</td>\n",
       "      <td>0</td>\n",
       "    </tr>\n",
       "    <tr>\n",
       "      <th>3</th>\n",
       "      <td>0</td>\n",
       "      <td>2</td>\n",
       "      <td>15091</td>\n",
       "      <td>5</td>\n",
       "      <td>0</td>\n",
       "      <td>0</td>\n",
       "    </tr>\n",
       "    <tr>\n",
       "      <th>4</th>\n",
       "      <td>0</td>\n",
       "      <td>6</td>\n",
       "      <td>3</td>\n",
       "      <td>15133</td>\n",
       "      <td>0</td>\n",
       "      <td>0</td>\n",
       "    </tr>\n",
       "    <tr>\n",
       "      <th>5</th>\n",
       "      <td>0</td>\n",
       "      <td>2</td>\n",
       "      <td>2</td>\n",
       "      <td>0</td>\n",
       "      <td>14715</td>\n",
       "      <td>1</td>\n",
       "    </tr>\n",
       "    <tr>\n",
       "      <th>6</th>\n",
       "      <td>0</td>\n",
       "      <td>0</td>\n",
       "      <td>0</td>\n",
       "      <td>1</td>\n",
       "      <td>1</td>\n",
       "      <td>14887</td>\n",
       "    </tr>\n",
       "  </tbody>\n",
       "</table>\n",
       "</div>"
      ],
      "text/plain": [
       "Predicted Activity      1      2      3      4      5      6\n",
       "Actual Activity                                             \n",
       "1                   14911      0      5      0      0      0\n",
       "2                       0  15210      3      2      0      0\n",
       "3                       0      2  15091      5      0      0\n",
       "4                       0      6      3  15133      0      0\n",
       "5                       0      2      2      0  14715      1\n",
       "6                       0      0      0      1      1  14887"
      ]
     },
     "execution_count": 14,
     "metadata": {},
     "output_type": "execute_result"
    }
   ],
   "source": [
    "# Confusion matrix\n",
    "pd.crosstab(test['Activity'], predictions, rownames=['Actual Activity'], colnames=['Predicted Activity'])"
   ]
  },
  {
   "cell_type": "code",
   "execution_count": 15,
   "metadata": {
    "collapsed": false
   },
   "outputs": [
    {
     "data": {
      "text/plain": [
       "[('RA_xacc', 0.037605586691088648),\n",
       " ('RA_yacc', 0.067038783131325705),\n",
       " ('RA_zacc', 0.048890845712373884),\n",
       " ('RA_xgyro', 0.0010758749426464829),\n",
       " ('RA_ygyro', 0.005857574344025401),\n",
       " ('RA_zgyro', 0.0050328401238300567),\n",
       " ('RA_xmag', 0.13167061478426195),\n",
       " ('RA_ymag', 0.069240935757662797),\n",
       " ('RA_zmag', 0.032293003622593526),\n",
       " ('LA_xacc', 0.062957947249207627),\n",
       " ('LA_yacc', 0.054915913487286569),\n",
       " ('LA_zacc', 0.099116548961367387),\n",
       " ('LA_xgyro', 0.00076310691839094873),\n",
       " ('LA_ygyro', 0.001336653797114011),\n",
       " ('LA_zgyro', 0.0021655623895494554),\n",
       " ('LA_xmag', 0.094064141109173827),\n",
       " ('LA_ymag', 0.19065593407649023),\n",
       " ('LA_zmag', 0.095318132901611494)]"
      ]
     },
     "execution_count": 15,
     "metadata": {},
     "output_type": "execute_result"
    }
   ],
   "source": [
    "# List of the features and their importance scores\n",
    "list(zip(train[features], clf.feature_importances_))"
   ]
  },
  {
   "cell_type": "code",
   "execution_count": 34,
   "metadata": {
    "collapsed": false
   },
   "outputs": [
    {
     "name": "stdout",
     "output_type": "stream",
     "text": [
      "             precision    recall  f1-score   support\n",
      "\n",
      "          1       1.00      1.00      1.00     14916\n",
      "          2       1.00      1.00      1.00     15215\n",
      "          3       1.00      1.00      1.00     15098\n",
      "          4       1.00      1.00      1.00     15142\n",
      "          5       1.00      1.00      1.00     14720\n",
      "          6       1.00      1.00      1.00     14889\n",
      "\n",
      "avg / total       1.00      1.00      1.00     89980\n",
      "\n"
     ]
    }
   ],
   "source": [
    "print(classification_report(test['Activity'],predictions))"
   ]
  },
  {
   "cell_type": "code",
   "execution_count": 30,
   "metadata": {
    "collapsed": false
   },
   "outputs": [
    {
     "name": "stdout",
     "output_type": "stream",
     "text": [
      "Stored 'train' (DataFrame)\n",
      "Stored 'test' (DataFrame)\n",
      "Stored 'y' (ndarray)\n"
     ]
    }
   ],
   "source": [
    "%store train\n",
    "%store test\n",
    "%store y"
   ]
  },
  {
   "cell_type": "code",
   "execution_count": null,
   "metadata": {
    "collapsed": true
   },
   "outputs": [],
   "source": []
  }
 ],
 "metadata": {
  "kernelspec": {
   "display_name": "Python 3",
   "language": "python",
   "name": "python3"
  },
  "language_info": {
   "codemirror_mode": {
    "name": "ipython",
    "version": 3
   },
   "file_extension": ".py",
   "mimetype": "text/x-python",
   "name": "python",
   "nbconvert_exporter": "python",
   "pygments_lexer": "ipython3",
   "version": "3.6.0"
  }
 },
 "nbformat": 4,
 "nbformat_minor": 2
}
