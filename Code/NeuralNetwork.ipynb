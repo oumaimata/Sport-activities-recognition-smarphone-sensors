{
 "cells": [
  {
   "cell_type": "code",
   "execution_count": 53,
   "metadata": {
    "collapsed": false
   },
   "outputs": [],
   "source": [
    "import pandas as pd \n",
    "import numpy as np\n",
    "from sklearn.neural_network import MLPClassifier\n",
    "from sklearn.metrics import confusion_matrix, classification_report, accuracy_score\n",
    "np.random.seed(0)"
   ]
  },
  {
   "cell_type": "code",
   "execution_count": 39,
   "metadata": {
    "collapsed": true
   },
   "outputs": [],
   "source": [
    "%store -r data\n",
    "%store -r train\n",
    "%store -r test\n",
    "%store -r y\n",
    "\n",
    "# we can use the SciKit Learn's train_test_split function from model_selection "
   ]
  },
  {
   "cell_type": "code",
   "execution_count": 42,
   "metadata": {
    "collapsed": false
   },
   "outputs": [
    {
     "data": {
      "text/plain": [
       "18"
      ]
     },
     "execution_count": 42,
     "metadata": {},
     "output_type": "execute_result"
    }
   ],
   "source": [
    "# list of the feature column's names\n",
    "features = data.columns[:18]\n",
    "len(features)"
   ]
  },
  {
   "cell_type": "code",
   "execution_count": 43,
   "metadata": {
    "collapsed": true
   },
   "outputs": [],
   "source": [
    "clf = MLPClassifier(solver='lbfgs', alpha=1e-5, hidden_layer_sizes=(18,), random_state=1)"
   ]
  },
  {
   "cell_type": "code",
   "execution_count": 44,
   "metadata": {
    "collapsed": false
   },
   "outputs": [
    {
     "data": {
      "text/plain": [
       "MLPClassifier(activation='relu', alpha=1e-05, batch_size='auto', beta_1=0.9,\n",
       "       beta_2=0.999, early_stopping=False, epsilon=1e-08,\n",
       "       hidden_layer_sizes=(18,), learning_rate='constant',\n",
       "       learning_rate_init=0.001, max_iter=200, momentum=0.9,\n",
       "       nesterovs_momentum=True, power_t=0.5, random_state=1, shuffle=True,\n",
       "       solver='lbfgs', tol=0.0001, validation_fraction=0.1, verbose=False,\n",
       "       warm_start=False)"
      ]
     },
     "execution_count": 44,
     "metadata": {},
     "output_type": "execute_result"
    }
   ],
   "source": [
    "clf.fit(train[features], y) "
   ]
  },
  {
   "cell_type": "code",
   "execution_count": 45,
   "metadata": {
    "collapsed": false
   },
   "outputs": [
    {
     "data": {
      "text/plain": [
       "array([1, 1, 1, ..., 6, 6, 6])"
      ]
     },
     "execution_count": 45,
     "metadata": {},
     "output_type": "execute_result"
    }
   ],
   "source": [
    "clf.predict(test[features])"
   ]
  },
  {
   "cell_type": "code",
   "execution_count": 46,
   "metadata": {
    "collapsed": false
   },
   "outputs": [
    {
     "data": {
      "text/plain": [
       "array([[  9.97056051e-01,   2.30890655e-03,   7.13753649e-05,\n",
       "          1.89788607e-04,   1.94662749e-04,   1.79215359e-04],\n",
       "       [  9.96626353e-01,   2.64292940e-03,   7.94545711e-05,\n",
       "          2.26065938e-04,   2.30994605e-04,   1.94202753e-04],\n",
       "       [  9.96653455e-01,   2.61616982e-03,   7.97707161e-05,\n",
       "          2.27476430e-04,   2.29071400e-04,   1.94056640e-04],\n",
       "       [  9.96721963e-01,   2.58066686e-03,   7.68331164e-05,\n",
       "          2.17876661e-04,   2.22424265e-04,   1.80235893e-04],\n",
       "       [  9.97411078e-01,   2.03846882e-03,   6.14419603e-05,\n",
       "          1.59720410e-04,   1.66103921e-04,   1.63187154e-04],\n",
       "       [  9.96691068e-01,   2.58033045e-03,   7.69284365e-05,\n",
       "          2.28246023e-04,   2.34141323e-04,   1.89285605e-04],\n",
       "       [  9.96734180e-01,   2.56263390e-03,   7.72252907e-05,\n",
       "          2.15558522e-04,   2.21217407e-04,   1.89184889e-04],\n",
       "       [  9.96919613e-01,   2.40095888e-03,   7.23598801e-05,\n",
       "          2.11739232e-04,   2.12520177e-04,   1.82809049e-04],\n",
       "       [  9.97157143e-01,   2.22981579e-03,   6.62034681e-05,\n",
       "          1.86151384e-04,   1.91807209e-04,   1.68878951e-04],\n",
       "       [  9.97046454e-01,   2.32751074e-03,   6.78651012e-05,\n",
       "          2.00201113e-04,   1.96885010e-04,   1.61084421e-04]])"
      ]
     },
     "execution_count": 46,
     "metadata": {},
     "output_type": "execute_result"
    }
   ],
   "source": [
    "# predicted probabilities of the first 10 rows\n",
    "clf.predict_proba(test[features])[0:10]"
   ]
  },
  {
   "cell_type": "code",
   "execution_count": 47,
   "metadata": {
    "collapsed": false
   },
   "outputs": [
    {
     "data": {
      "text/plain": [
       "array([1, 1, 1, ..., 6, 6, 6])"
      ]
     },
     "execution_count": 47,
     "metadata": {},
     "output_type": "execute_result"
    }
   ],
   "source": [
    "predictions = clf.predict(test[features])\n",
    "predictions"
   ]
  },
  {
   "cell_type": "code",
   "execution_count": 48,
   "metadata": {
    "collapsed": false
   },
   "outputs": [
    {
     "data": {
      "text/html": [
       "<div>\n",
       "<table border=\"1\" class=\"dataframe\">\n",
       "  <thead>\n",
       "    <tr style=\"text-align: right;\">\n",
       "      <th>Predicted Activity</th>\n",
       "      <th>1</th>\n",
       "      <th>2</th>\n",
       "      <th>3</th>\n",
       "      <th>4</th>\n",
       "      <th>5</th>\n",
       "      <th>6</th>\n",
       "    </tr>\n",
       "    <tr>\n",
       "      <th>Actual Activity</th>\n",
       "      <th></th>\n",
       "      <th></th>\n",
       "      <th></th>\n",
       "      <th></th>\n",
       "      <th></th>\n",
       "      <th></th>\n",
       "    </tr>\n",
       "  </thead>\n",
       "  <tbody>\n",
       "    <tr>\n",
       "      <th>1</th>\n",
       "      <td>14905</td>\n",
       "      <td>1</td>\n",
       "      <td>10</td>\n",
       "      <td>0</td>\n",
       "      <td>0</td>\n",
       "      <td>0</td>\n",
       "    </tr>\n",
       "    <tr>\n",
       "      <th>2</th>\n",
       "      <td>4</td>\n",
       "      <td>15026</td>\n",
       "      <td>64</td>\n",
       "      <td>94</td>\n",
       "      <td>0</td>\n",
       "      <td>27</td>\n",
       "    </tr>\n",
       "    <tr>\n",
       "      <th>3</th>\n",
       "      <td>18</td>\n",
       "      <td>43</td>\n",
       "      <td>15004</td>\n",
       "      <td>14</td>\n",
       "      <td>0</td>\n",
       "      <td>19</td>\n",
       "    </tr>\n",
       "    <tr>\n",
       "      <th>4</th>\n",
       "      <td>6</td>\n",
       "      <td>58</td>\n",
       "      <td>25</td>\n",
       "      <td>15046</td>\n",
       "      <td>7</td>\n",
       "      <td>0</td>\n",
       "    </tr>\n",
       "    <tr>\n",
       "      <th>5</th>\n",
       "      <td>0</td>\n",
       "      <td>0</td>\n",
       "      <td>4</td>\n",
       "      <td>3</td>\n",
       "      <td>14693</td>\n",
       "      <td>20</td>\n",
       "    </tr>\n",
       "    <tr>\n",
       "      <th>6</th>\n",
       "      <td>3</td>\n",
       "      <td>17</td>\n",
       "      <td>2</td>\n",
       "      <td>16</td>\n",
       "      <td>22</td>\n",
       "      <td>14829</td>\n",
       "    </tr>\n",
       "  </tbody>\n",
       "</table>\n",
       "</div>"
      ],
      "text/plain": [
       "Predicted Activity      1      2      3      4      5      6\n",
       "Actual Activity                                             \n",
       "1                   14905      1     10      0      0      0\n",
       "2                       4  15026     64     94      0     27\n",
       "3                      18     43  15004     14      0     19\n",
       "4                       6     58     25  15046      7      0\n",
       "5                       0      0      4      3  14693     20\n",
       "6                       3     17      2     16     22  14829"
      ]
     },
     "execution_count": 48,
     "metadata": {},
     "output_type": "execute_result"
    }
   ],
   "source": [
    "pd.crosstab(test['Activity'], predictions, rownames=['Actual Activity'], colnames=['Predicted Activity'])"
   ]
  },
  {
   "cell_type": "code",
   "execution_count": null,
   "metadata": {
    "collapsed": false
   },
   "outputs": [],
   "source": [
    "# use cross-validation for number of layers "
   ]
  },
  {
   "cell_type": "code",
   "execution_count": 55,
   "metadata": {
    "collapsed": false
   },
   "outputs": [
    {
     "name": "stdout",
     "output_type": "stream",
     "text": [
      "             precision    recall  f1-score   support\n",
      "\n",
      "          1       1.00      1.00      1.00     14916\n",
      "          2       0.99      0.99      0.99     15215\n",
      "          3       0.99      0.99      0.99     15098\n",
      "          4       0.99      0.99      0.99     15142\n",
      "          5       1.00      1.00      1.00     14720\n",
      "          6       1.00      1.00      1.00     14889\n",
      "\n",
      "avg / total       0.99      0.99      0.99     89980\n",
      "\n"
     ]
    }
   ],
   "source": [
    "print(classification_report(test['Activity'],predictions))"
   ]
  },
  {
   "cell_type": "code",
   "execution_count": null,
   "metadata": {
    "collapsed": true
   },
   "outputs": [],
   "source": []
  }
 ],
 "metadata": {
  "kernelspec": {
   "display_name": "Python 3",
   "language": "python",
   "name": "python3"
  },
  "language_info": {
   "codemirror_mode": {
    "name": "ipython",
    "version": 3
   },
   "file_extension": ".py",
   "mimetype": "text/x-python",
   "name": "python",
   "nbconvert_exporter": "python",
   "pygments_lexer": "ipython3",
   "version": "3.6.0"
  }
 },
 "nbformat": 4,
 "nbformat_minor": 2
}
